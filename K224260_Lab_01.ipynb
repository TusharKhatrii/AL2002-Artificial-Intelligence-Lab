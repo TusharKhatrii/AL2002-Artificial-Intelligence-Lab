{
 "cells": [
  {
   "cell_type": "code",
   "execution_count": 1,
   "metadata": {},
   "outputs": [],
   "source": [
    "import pandas as pd"
   ]
  },
  {
   "cell_type": "markdown",
   "metadata": {},
   "source": [
    "1. How many passengers were there on the Titanic?"
   ]
  },
  {
   "cell_type": "code",
   "execution_count": 2,
   "metadata": {},
   "outputs": [
    {
     "name": "stdout",
     "output_type": "stream",
     "text": [
      "     PassengerId  Survived  Pclass                 Name   Sex   Age  SibSp  \\\n",
      "890          891         0       3  Dooley, Mr. Patrick  male  32.0      0   \n",
      "\n",
      "     Parch  Ticket  Fare Cabin Embarked  \n",
      "890      0  370376  7.75   NaN        Q  \n",
      "Number of passengers on the Titanic: 891\n"
     ]
    }
   ],
   "source": [
    "df = pd.read_csv('Titanic-Dataset.csv')\n",
    "\n",
    "# Check the last row of the dataset to get an idea of its structure\n",
    "print(df.tail(1))\n",
    "num_passengers = df.shape[0]\n",
    "print(f\"Number of passengers on the Titanic: {num_passengers}\")\n"
   ]
  },
  {
   "cell_type": "markdown",
   "metadata": {},
   "source": [
    "2. What was the overall survival rate?"
   ]
  },
  {
   "cell_type": "code",
   "execution_count": 3,
   "metadata": {},
   "outputs": [
    {
     "name": "stdout",
     "output_type": "stream",
     "text": [
      "Survival Rate: 38.38383838383838\n"
     ]
    }
   ],
   "source": [
    "survival_rate = df['Survived'].mean()*100\n",
    "print(f\"Survival Rate: {survival_rate}\")"
   ]
  },
  {
   "cell_type": "markdown",
   "metadata": {},
   "source": [
    "3. What was the average age of passengers?"
   ]
  },
  {
   "cell_type": "code",
   "execution_count": 4,
   "metadata": {},
   "outputs": [
    {
     "name": "stdout",
     "output_type": "stream",
     "text": [
      "Average Age: 30\n"
     ]
    }
   ],
   "source": [
    "avg_age = df['Age'].mean()\n",
    "print(f\"Average Age: {round(avg_age)}\")\n"
   ]
  },
  {
   "cell_type": "markdown",
   "metadata": {},
   "source": [
    "4. How many male and female passengers were on board?"
   ]
  },
  {
   "cell_type": "code",
   "execution_count": 5,
   "metadata": {},
   "outputs": [
    {
     "name": "stdout",
     "output_type": "stream",
     "text": [
      "Number of male passengers on board: 577\n",
      "Number of female passengers on board: 314\n"
     ]
    }
   ],
   "source": [
    "\n",
    "male = df[df['Sex']=='male'].shape[0]\n",
    "print(f\"Number of male passengers on board: {male}\")\n",
    "\n",
    "female = df[df['Sex']=='female'].shape[0]\n",
    "print(f\"Number of female passengers on board: {female}\")"
   ]
  },
  {
   "cell_type": "markdown",
   "metadata": {},
   "source": [
    "5. What was the survival rate by gender?"
   ]
  },
  {
   "cell_type": "code",
   "execution_count": 6,
   "metadata": {},
   "outputs": [
    {
     "name": "stdout",
     "output_type": "stream",
     "text": [
      "Sex\n",
      "female    74.203822\n",
      "male      18.890815\n",
      "Name: Survived, dtype: float64\n"
     ]
    }
   ],
   "source": [
    "survival_rates = df.groupby('Sex')['Survived'].mean() * 100\n",
    "print(survival_rates)"
   ]
  },
  {
   "cell_type": "markdown",
   "metadata": {},
   "source": [
    "6. How many passengers were in each class?"
   ]
  },
  {
   "cell_type": "code",
   "execution_count": 7,
   "metadata": {},
   "outputs": [
    {
     "name": "stdout",
     "output_type": "stream",
     "text": [
      "Pclass\n",
      "1    216\n",
      "2    184\n",
      "3    491\n",
      "Name: PassengerId, dtype: int64\n"
     ]
    }
   ],
   "source": [
    "classCount = df.groupby('Pclass')['PassengerId'].size()\n",
    "print(classCount)"
   ]
  },
  {
   "cell_type": "markdown",
   "metadata": {},
   "source": [
    "7. What was the survival rate by class?"
   ]
  },
  {
   "cell_type": "code",
   "execution_count": 8,
   "metadata": {},
   "outputs": [
    {
     "name": "stdout",
     "output_type": "stream",
     "text": [
      "Pclass\n",
      "1    62.962963\n",
      "2    47.282609\n",
      "3    24.236253\n",
      "Name: Survived, dtype: float64\n"
     ]
    }
   ],
   "source": [
    "survival_rates = df.groupby('Pclass')['Survived'].mean() * 100\n",
    "print(survival_rates)"
   ]
  },
  {
   "cell_type": "markdown",
   "metadata": {},
   "source": [
    "8. What was the average fare for each class?"
   ]
  },
  {
   "cell_type": "code",
   "execution_count": 9,
   "metadata": {},
   "outputs": [
    {
     "name": "stdout",
     "output_type": "stream",
     "text": [
      "Pclass\n",
      "1    84.154687\n",
      "2    20.662183\n",
      "3    13.675550\n",
      "Name: Fare, dtype: float64\n"
     ]
    }
   ],
   "source": [
    "average_fare = df.groupby('Pclass')['Fare'].mean()\n",
    "print(average_fare)"
   ]
  },
  {
   "cell_type": "markdown",
   "metadata": {},
   "source": [
    "9. How many passengers were traveling with family members (parents, siblings)?"
   ]
  },
  {
   "cell_type": "code",
   "execution_count": 10,
   "metadata": {},
   "outputs": [
    {
     "name": "stdout",
     "output_type": "stream",
     "text": [
      "Number of passengers traveling with family members: 354\n"
     ]
    }
   ],
   "source": [
    "df['FamilySize'] = df['SibSp'] + df['Parch']\n",
    "passengers_with_family = df[df['FamilySize'] > 0].shape[0]\n",
    "print(f\"Number of passengers traveling with family members: {passengers_with_family}\")"
   ]
  },
  {
   "cell_type": "markdown",
   "metadata": {},
   "source": [
    "10. How would you handle missing values in the dataset, particularly in the Age and Cabin columns?"
   ]
  },
  {
   "cell_type": "markdown",
   "metadata": {},
   "source": [
    "For Age: Common strategies include imputing with the median or deriving the median based on other features.\n",
    "For Cabin: You can choose to impute with a placeholder, derive features from it, or even drop it if it is too sparse."
   ]
  }
 ],
 "metadata": {
  "kernelspec": {
   "display_name": "Python 3",
   "language": "python",
   "name": "python3"
  },
  "language_info": {
   "codemirror_mode": {
    "name": "ipython",
    "version": 3
   },
   "file_extension": ".py",
   "mimetype": "text/x-python",
   "name": "python",
   "nbconvert_exporter": "python",
   "pygments_lexer": "ipython3",
   "version": "3.13.1"
  }
 },
 "nbformat": 4,
 "nbformat_minor": 2
}
